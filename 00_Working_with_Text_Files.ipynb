{
  "nbformat": 4,
  "nbformat_minor": 0,
  "metadata": {
    "kernelspec": {
      "display_name": "Python 3",
      "language": "python",
      "name": "python3"
    },
    "language_info": {
      "codemirror_mode": {
        "name": "ipython",
        "version": 3
      },
      "file_extension": ".py",
      "mimetype": "text/x-python",
      "name": "python",
      "nbconvert_exporter": "python",
      "pygments_lexer": "ipython3",
      "version": "3.6.7"
    },
    "colab": {
      "name": "00-Working-with-Text-Files.ipynb",
      "provenance": [],
      "include_colab_link": true
    }
  },
  "cells": [
    {
      "cell_type": "markdown",
      "metadata": {
        "id": "view-in-github",
        "colab_type": "text"
      },
      "source": [
        "<a href=\"https://colab.research.google.com/github/dharmikmehta98/nlp-udemy-course-practice/blob/master/00_Working_with_Text_Files.ipynb\" target=\"_parent\"><img src=\"https://colab.research.google.com/assets/colab-badge.svg\" alt=\"Open In Colab\"/></a>"
      ]
    },
    {
      "cell_type": "markdown",
      "metadata": {
        "id": "aIPoSSh_Rry2",
        "colab_type": "text"
      },
      "source": [
        "___\n",
        "\n",
        "<a href='http://www.pieriandata.com'> <img src='../Pierian_Data_Logo.png' /></a>\n",
        "___"
      ]
    },
    {
      "cell_type": "markdown",
      "metadata": {
        "id": "AiRxr0CGRry7",
        "colab_type": "text"
      },
      "source": [
        "# Working with Text Files\n",
        "In this section we'll cover\n",
        " * Working with f-strings (formatted string literals) to format printed text\n",
        " * Working with Files - opening, reading, writing and appending text files"
      ]
    },
    {
      "cell_type": "markdown",
      "metadata": {
        "id": "mupxs65qRry-",
        "colab_type": "text"
      },
      "source": [
        "## Formatted String Literals (f-strings)"
      ]
    },
    {
      "cell_type": "markdown",
      "metadata": {
        "id": "ypvaReXNRrzB",
        "colab_type": "text"
      },
      "source": [
        "Introduced in Python 3.6, <strong>f-strings</strong> offer several benefits over the older `.format()` string method. <br>For one, you can bring outside variables immediately into to the string rather than pass them through as keyword arguments:"
      ]
    },
    {
      "cell_type": "code",
      "metadata": {
        "id": "RUNBnVXTRrzE",
        "colab_type": "code",
        "colab": {},
        "outputId": "fc1c86a0-a733-4cae-93ec-2571d59e199f"
      },
      "source": [
        "name = 'Fred'\n",
        "\n",
        "# Using the old .format() method:\n",
        "print('His name is {var}.'.format(var=name))\n",
        "\n",
        "# Using f-strings:\n",
        "print(f'His name is {name}.')"
      ],
      "execution_count": 0,
      "outputs": [
        {
          "output_type": "stream",
          "text": [
            "His name is Fred.\n",
            "His name is Fred.\n"
          ],
          "name": "stdout"
        }
      ]
    },
    {
      "cell_type": "markdown",
      "metadata": {
        "id": "oX0rfHSKRrzX",
        "colab_type": "text"
      },
      "source": [
        "Pass `!r` to get the <strong>string representation</strong>:"
      ]
    },
    {
      "cell_type": "code",
      "metadata": {
        "id": "4PbKaEzgRrzZ",
        "colab_type": "code",
        "colab": {},
        "outputId": "b7d1fb3e-f918-4e8e-f8bb-989a80a2c1b6"
      },
      "source": [
        "print(f'His name is {name!r}')"
      ],
      "execution_count": 0,
      "outputs": [
        {
          "output_type": "stream",
          "text": [
            "His name is 'Fred'\n"
          ],
          "name": "stdout"
        }
      ]
    },
    {
      "cell_type": "markdown",
      "metadata": {
        "id": "RTkA2QBmRrzm",
        "colab_type": "text"
      },
      "source": [
        "Be careful not to let quotation marks in the replacement fields conflict with the quoting used in the outer string:"
      ]
    },
    {
      "cell_type": "code",
      "metadata": {
        "id": "8-obwwBBRrzo",
        "colab_type": "code",
        "colab": {},
        "outputId": "a6fcf408-6b2e-4158-cdc8-55b1c64eb90f"
      },
      "source": [
        "d = {'a':123,'b':456}\n",
        "\n",
        "print(f'Address: {d['a']} Main Street')"
      ],
      "execution_count": 0,
      "outputs": [
        {
          "output_type": "error",
          "ename": "SyntaxError",
          "evalue": "invalid syntax (<ipython-input-3-b2f08335b9e5>, line 3)",
          "traceback": [
            "\u001b[1;36m  File \u001b[1;32m\"<ipython-input-3-b2f08335b9e5>\"\u001b[1;36m, line \u001b[1;32m3\u001b[0m\n\u001b[1;33m    print(f'Address: {d['a']} Main Street')\u001b[0m\n\u001b[1;37m                         ^\u001b[0m\n\u001b[1;31mSyntaxError\u001b[0m\u001b[1;31m:\u001b[0m invalid syntax\n"
          ]
        }
      ]
    },
    {
      "cell_type": "markdown",
      "metadata": {
        "id": "uQsu8tC8Rrz1",
        "colab_type": "text"
      },
      "source": [
        "Instead, use different styles of quotation marks:"
      ]
    },
    {
      "cell_type": "code",
      "metadata": {
        "id": "VfHRhf1-Rrz3",
        "colab_type": "code",
        "colab": {},
        "outputId": "79441600-7a8d-47a5-86f5-3724e3f32fce"
      },
      "source": [
        "d = {'a':123,'b':456}\n",
        "\n",
        "print(f\"Address: {d['a']} Main Street\")"
      ],
      "execution_count": 0,
      "outputs": [
        {
          "output_type": "stream",
          "text": [
            "Address: 123 Main Street\n"
          ],
          "name": "stdout"
        }
      ]
    },
    {
      "cell_type": "markdown",
      "metadata": {
        "id": "qzIMsacJRr0D",
        "colab_type": "text"
      },
      "source": [
        "### Minimum Widths, Alignment and Padding\n",
        "You can pass arguments inside a nested set of curly braces to set a minimum width for the field, the alignment and even padding characters."
      ]
    },
    {
      "cell_type": "code",
      "metadata": {
        "id": "62sb1O69Rr0F",
        "colab_type": "code",
        "colab": {},
        "outputId": "e1bad9b3-47bc-4999-cf51-38ca6441c570"
      },
      "source": [
        "library = [('Author', 'Topic', 'Pages'), ('Twain', 'Rafting', 601), ('Feynman', 'Physics', 95), ('Hamilton', 'Mythology', 144)]\n",
        "\n",
        "for book in library:\n",
        "    print(f'{book[0]:{10}} {book[1]:{8}} {book[2]:{7}}')"
      ],
      "execution_count": 0,
      "outputs": [
        {
          "output_type": "stream",
          "text": [
            "Author     Topic    Pages  \n",
            "Twain      Rafting      601\n",
            "Feynman    Physics       95\n",
            "Hamilton   Mythology     144\n"
          ],
          "name": "stdout"
        }
      ]
    },
    {
      "cell_type": "markdown",
      "metadata": {
        "id": "-WWI-DiLRr0S",
        "colab_type": "text"
      },
      "source": [
        "Here the first three lines align, except `Pages` follows a default left-alignment while numbers are right-aligned. Also, the fourth line's page number is pushed to the right as `Mythology` exceeds the minimum field width of `8`. When setting minimum field widths make sure to take the longest item into account.\n",
        "\n",
        "To set the alignment, use the character `<` for left-align,  `^` for center, `>` for right.<br>\n",
        "To set padding, precede the alignment character with the padding character (`-` and `.` are common choices).\n",
        "\n",
        "Let's make some adjustments:"
      ]
    },
    {
      "cell_type": "code",
      "metadata": {
        "id": "oRwn55K7Rr0V",
        "colab_type": "code",
        "colab": {},
        "outputId": "5d5f37bd-afef-40b6-9ce9-9c7febb2660b"
      },
      "source": [
        "for book in library:\n",
        "    print(f'{book[0]:{10}} {book[1]:{10}} {book[2]:.>{7}}') # here .> was added"
      ],
      "execution_count": 0,
      "outputs": [
        {
          "output_type": "stream",
          "text": [
            "Author     Topic      ..Pages\n",
            "Twain      Rafting    ....601\n",
            "Feynman    Physics    .....95\n",
            "Hamilton   Mythology  ....144\n"
          ],
          "name": "stdout"
        }
      ]
    },
    {
      "cell_type": "markdown",
      "metadata": {
        "id": "Y6WjMurURr0b",
        "colab_type": "text"
      },
      "source": [
        "### Date Formatting"
      ]
    },
    {
      "cell_type": "code",
      "metadata": {
        "id": "7o2syOzbRr0c",
        "colab_type": "code",
        "colab": {},
        "outputId": "62c3749f-1e95-446d-fdb0-cce8cde2a2b3"
      },
      "source": [
        "from datetime import datetime\n",
        "\n",
        "today = datetime(year=2018, month=1, day=27)\n",
        "\n",
        "print(f'{today:%B %d, %Y}')"
      ],
      "execution_count": 0,
      "outputs": [
        {
          "output_type": "stream",
          "text": [
            "January 27, 2018\n"
          ],
          "name": "stdout"
        }
      ]
    },
    {
      "cell_type": "markdown",
      "metadata": {
        "id": "df3-SSgNRr0g",
        "colab_type": "text"
      },
      "source": [
        "For more info on formatted string literals visit https://docs.python.org/3/reference/lexical_analysis.html#f-strings\n",
        "\n",
        "***"
      ]
    },
    {
      "cell_type": "markdown",
      "metadata": {
        "id": "ZWAdpRQGRr0h",
        "colab_type": "text"
      },
      "source": [
        "# Files\n",
        "\n",
        "Python uses file objects to interact with external files on your computer. These file objects can be any sort of file you have on your computer, whether it be an audio file, a text file, emails, Excel documents, etc. Note: You will probably need to install certain libraries or modules to interact with those various file types, but they are easily available. (We will cover downloading modules later on in the course).\n",
        "\n",
        "Python has a built-in open function that allows us to open and play with basic file types. First we will need a file though. We're going to use some IPython magic to create a text file!\n",
        "\n",
        "## Creating a File with IPython\n",
        "#### This function is specific to jupyter notebooks! Alternatively, quickly create a simple .txt file with Sublime text editor."
      ]
    },
    {
      "cell_type": "code",
      "metadata": {
        "id": "uGyPkzTtRr0i",
        "colab_type": "code",
        "colab": {},
        "outputId": "9d398c3c-9f31-4635-cd87-e203567a71ae"
      },
      "source": [
        "%%writefile test.txt\n",
        "Hello, this is a quick test file.\n",
        "This is the second line of the file."
      ],
      "execution_count": 0,
      "outputs": [
        {
          "output_type": "stream",
          "text": [
            "Overwriting test.txt\n"
          ],
          "name": "stdout"
        }
      ]
    },
    {
      "cell_type": "markdown",
      "metadata": {
        "id": "plpikvwVRr0m",
        "colab_type": "text"
      },
      "source": [
        "## Python Opening a File\n",
        "\n",
        "### Know Your File's Location\n",
        "\n",
        "It's easy to get an error on this step:"
      ]
    },
    {
      "cell_type": "code",
      "metadata": {
        "id": "scQpleOwRr0n",
        "colab_type": "code",
        "colab": {},
        "outputId": "8fbfc931-ac5b-4dcc-d0c2-04b63998609a"
      },
      "source": [
        "myfile = open('whoops.txt')"
      ],
      "execution_count": 0,
      "outputs": [
        {
          "output_type": "error",
          "ename": "FileNotFoundError",
          "evalue": "[Errno 2] No such file or directory: 'whoops.txt'",
          "traceback": [
            "\u001b[1;31m---------------------------------------------------------------------------\u001b[0m",
            "\u001b[1;31mFileNotFoundError\u001b[0m                         Traceback (most recent call last)",
            "\u001b[1;32m<ipython-input-9-410403f4f4b4>\u001b[0m in \u001b[0;36m<module>\u001b[1;34m()\u001b[0m\n\u001b[1;32m----> 1\u001b[1;33m \u001b[0mmyfile\u001b[0m \u001b[1;33m=\u001b[0m \u001b[0mopen\u001b[0m\u001b[1;33m(\u001b[0m\u001b[1;34m'whoops.txt'\u001b[0m\u001b[1;33m)\u001b[0m\u001b[1;33m\u001b[0m\u001b[0m\n\u001b[0m",
            "\u001b[1;31mFileNotFoundError\u001b[0m: [Errno 2] No such file or directory: 'whoops.txt'"
          ]
        }
      ]
    },
    {
      "cell_type": "markdown",
      "metadata": {
        "id": "jKc6d3AgRr0r",
        "colab_type": "text"
      },
      "source": [
        "To avoid this error, make sure your .txt file is saved in the same location as your notebook. To check your notebook location, use **pwd**:"
      ]
    },
    {
      "cell_type": "code",
      "metadata": {
        "id": "Y-tFqSLyRr0s",
        "colab_type": "code",
        "colab": {},
        "outputId": "48bc661b-d1b3-42c4-aa3b-49319531aade"
      },
      "source": [
        "pwd"
      ],
      "execution_count": 0,
      "outputs": [
        {
          "output_type": "execute_result",
          "data": {
            "text/plain": [
              "'C:\\\\Users\\\\Mike\\\\NLP-Bootcamp\\\\00-Python-Text-Basics'"
            ]
          },
          "metadata": {
            "tags": []
          },
          "execution_count": 10
        }
      ]
    },
    {
      "cell_type": "markdown",
      "metadata": {
        "id": "Z3hSgt5ZRr0w",
        "colab_type": "text"
      },
      "source": [
        "**Alternatively, to grab files from any location on your computer, simply pass in the entire file path. **\n",
        "\n",
        "For Windows you need to use double \\ so python doesn't treat the second \\ as an escape character, a file path is in the form:\n",
        "\n",
        "    myfile = open(\"C:\\\\Users\\\\YourUserName\\\\Home\\\\Folder\\\\myfile.txt\")\n",
        "\n",
        "For MacOS and Linux you use slashes in the opposite direction:\n",
        "\n",
        "    myfile = open(\"/Users/YourUserName/Folder/myfile.txt\")"
      ]
    },
    {
      "cell_type": "code",
      "metadata": {
        "id": "jG4TM4UURr0w",
        "colab_type": "code",
        "colab": {}
      },
      "source": [
        "# Open the text.txt file we created earlier\n",
        "my_file = open('test.txt')"
      ],
      "execution_count": 0,
      "outputs": []
    },
    {
      "cell_type": "code",
      "metadata": {
        "id": "JAuKP7DuRr00",
        "colab_type": "code",
        "colab": {},
        "outputId": "b0b1608c-46ca-4ccf-90f8-ef5354d5d72f"
      },
      "source": [
        "my_file"
      ],
      "execution_count": 0,
      "outputs": [
        {
          "output_type": "execute_result",
          "data": {
            "text/plain": [
              "<_io.TextIOWrapper name='test.txt' mode='r' encoding='cp1252'>"
            ]
          },
          "metadata": {
            "tags": []
          },
          "execution_count": 12
        }
      ]
    },
    {
      "cell_type": "markdown",
      "metadata": {
        "id": "FiLXoJUqRr04",
        "colab_type": "text"
      },
      "source": [
        "`my_file` is now an open file object held in memory. We'll perform some reading and writing exercises, and then we have to close the file to free up memory.\n",
        "\n",
        "### .read() and .seek()"
      ]
    },
    {
      "cell_type": "code",
      "metadata": {
        "id": "msPNA7GARr05",
        "colab_type": "code",
        "colab": {},
        "outputId": "5febc49f-a90b-4bea-b6bd-64f787cd1516"
      },
      "source": [
        "# We can now read the file\n",
        "my_file.read()"
      ],
      "execution_count": 0,
      "outputs": [
        {
          "output_type": "execute_result",
          "data": {
            "text/plain": [
              "'Hello, this is a quick test file.\\nThis is the second line of the file.'"
            ]
          },
          "metadata": {
            "tags": []
          },
          "execution_count": 13
        }
      ]
    },
    {
      "cell_type": "code",
      "metadata": {
        "id": "oivWwD_6Rr09",
        "colab_type": "code",
        "colab": {},
        "outputId": "b5d86c1f-4598-4a76-ca8f-af0d89228b31"
      },
      "source": [
        "# But what happens if we try to read it again?\n",
        "my_file.read()"
      ],
      "execution_count": 0,
      "outputs": [
        {
          "output_type": "execute_result",
          "data": {
            "text/plain": [
              "''"
            ]
          },
          "metadata": {
            "tags": []
          },
          "execution_count": 14
        }
      ]
    },
    {
      "cell_type": "markdown",
      "metadata": {
        "id": "1O_fp2t-Rr1B",
        "colab_type": "text"
      },
      "source": [
        "This happens because you can imagine the reading \"cursor\" is at the end of the file after having read it. So there is nothing left to read. We can reset the \"cursor\" like this:"
      ]
    },
    {
      "cell_type": "code",
      "metadata": {
        "id": "jniApnlFRr1C",
        "colab_type": "code",
        "colab": {},
        "outputId": "3ce7dd2b-e0b7-4848-cc10-d0dc3007d86d"
      },
      "source": [
        "# Seek to the start of file (index 0)\n",
        "my_file.seek(0)"
      ],
      "execution_count": 0,
      "outputs": [
        {
          "output_type": "execute_result",
          "data": {
            "text/plain": [
              "0"
            ]
          },
          "metadata": {
            "tags": []
          },
          "execution_count": 15
        }
      ]
    },
    {
      "cell_type": "code",
      "metadata": {
        "id": "Ui5HSxpwRr1I",
        "colab_type": "code",
        "colab": {},
        "outputId": "b5c0fc76-3392-46a2-e32b-301c61d83e94"
      },
      "source": [
        "# Now read again\n",
        "my_file.read()"
      ],
      "execution_count": 0,
      "outputs": [
        {
          "output_type": "execute_result",
          "data": {
            "text/plain": [
              "'Hello, this is a quick test file.\\nThis is the second line of the file.'"
            ]
          },
          "metadata": {
            "tags": []
          },
          "execution_count": 16
        }
      ]
    },
    {
      "cell_type": "markdown",
      "metadata": {
        "id": "BWKvKe9oRr1N",
        "colab_type": "text"
      },
      "source": [
        "### .readlines()\n",
        "You can read a file line by line using the readlines method. Use caution with large files, since everything will be held in memory. We will learn how to iterate over large files later in the course."
      ]
    },
    {
      "cell_type": "code",
      "metadata": {
        "id": "FAFsJDALRr1N",
        "colab_type": "code",
        "colab": {},
        "outputId": "e65a89ec-d6e3-46be-8f5f-0ab949ce00a3"
      },
      "source": [
        "# Readlines returns a list of the lines in the file\n",
        "my_file.seek(0)\n",
        "my_file.readlines()"
      ],
      "execution_count": 0,
      "outputs": [
        {
          "output_type": "execute_result",
          "data": {
            "text/plain": [
              "['Hello, this is a quick test file.\\n', 'This is the second line of the file.']"
            ]
          },
          "metadata": {
            "tags": []
          },
          "execution_count": 17
        }
      ]
    },
    {
      "cell_type": "markdown",
      "metadata": {
        "id": "v0Jy3bv9Rr1S",
        "colab_type": "text"
      },
      "source": [
        "When you have finished using a file, it is always good practice to close it."
      ]
    },
    {
      "cell_type": "code",
      "metadata": {
        "id": "fm__AEqLRr1T",
        "colab_type": "code",
        "colab": {}
      },
      "source": [
        "my_file.close()"
      ],
      "execution_count": 0,
      "outputs": []
    },
    {
      "cell_type": "markdown",
      "metadata": {
        "id": "YDQcaJHIRr1Y",
        "colab_type": "text"
      },
      "source": [
        "## Writing to a File\n",
        "\n",
        "By default, the `open()` function will only allow us to read the file. We need to pass the argument `'w'` to write over the file. For example:"
      ]
    },
    {
      "cell_type": "code",
      "metadata": {
        "id": "LuIKNSQKRr1Z",
        "colab_type": "code",
        "colab": {}
      },
      "source": [
        "# Add a second argument to the function, 'w' which stands for write.\n",
        "# Passing 'w+' lets us read and write to the file\n",
        "\n",
        "my_file = open('test.txt','w+')"
      ],
      "execution_count": 0,
      "outputs": []
    },
    {
      "cell_type": "markdown",
      "metadata": {
        "id": "uoaQbn4HRr1e",
        "colab_type": "text"
      },
      "source": [
        "<div class=\"alert alert-danger\" style=\"margin: 20px\">**Use caution!**<br>\n",
        "Opening a file with 'w' or 'w+' *truncates the original*, meaning that anything that was in the original file **is deleted**!</div>"
      ]
    },
    {
      "cell_type": "code",
      "metadata": {
        "id": "10tChzaARr1f",
        "colab_type": "code",
        "colab": {},
        "outputId": "d7761a3c-66cc-4146-d7d3-c9ac5c157073"
      },
      "source": [
        "# Write to the file\n",
        "my_file.write('This is a new first line')"
      ],
      "execution_count": 0,
      "outputs": [
        {
          "output_type": "execute_result",
          "data": {
            "text/plain": [
              "24"
            ]
          },
          "metadata": {
            "tags": []
          },
          "execution_count": 20
        }
      ]
    },
    {
      "cell_type": "code",
      "metadata": {
        "id": "FuLUYnouRr1k",
        "colab_type": "code",
        "colab": {},
        "outputId": "463d3439-6df3-4956-c36d-9597aeabd01c"
      },
      "source": [
        "# Read the file\n",
        "my_file.seek(0)\n",
        "my_file.read()"
      ],
      "execution_count": 0,
      "outputs": [
        {
          "output_type": "execute_result",
          "data": {
            "text/plain": [
              "'This is a new first line'"
            ]
          },
          "metadata": {
            "tags": []
          },
          "execution_count": 21
        }
      ]
    },
    {
      "cell_type": "code",
      "metadata": {
        "id": "wUMG6db2Rr1q",
        "colab_type": "code",
        "colab": {}
      },
      "source": [
        "my_file.close()  # always do this when you're done with a file"
      ],
      "execution_count": 0,
      "outputs": []
    },
    {
      "cell_type": "markdown",
      "metadata": {
        "id": "ajEQcKNiRr1v",
        "colab_type": "text"
      },
      "source": [
        "## Appending to a File\n",
        "Passing the argument `'a'` opens the file and puts the pointer at the end, so anything written is appended. Like `'w+'`, `'a+'` lets us read and write to a file. If the file does not exist, one will be created."
      ]
    },
    {
      "cell_type": "code",
      "metadata": {
        "id": "5WoTSavmRr1w",
        "colab_type": "code",
        "colab": {},
        "outputId": "d4bf754a-dbd3-4e7c-dc8d-917e590c1e60"
      },
      "source": [
        "my_file = open('test.txt','a+')\n",
        "my_file.write('\\nThis line is being appended to test.txt')\n",
        "my_file.write('\\nAnd another line here.')"
      ],
      "execution_count": 0,
      "outputs": [
        {
          "output_type": "execute_result",
          "data": {
            "text/plain": [
              "23"
            ]
          },
          "metadata": {
            "tags": []
          },
          "execution_count": 23
        }
      ]
    },
    {
      "cell_type": "code",
      "metadata": {
        "id": "mYWl1dX7Rr11",
        "colab_type": "code",
        "colab": {},
        "outputId": "4314d488-439e-42a5-fc07-2da3d58881a8"
      },
      "source": [
        "my_file.seek(0)\n",
        "print(my_file.read())"
      ],
      "execution_count": 0,
      "outputs": [
        {
          "output_type": "stream",
          "text": [
            "This is a new first line\n",
            "This line is being appended to test.txt\n",
            "And another line here.\n"
          ],
          "name": "stdout"
        }
      ]
    },
    {
      "cell_type": "code",
      "metadata": {
        "id": "qCo-y6CeRr16",
        "colab_type": "code",
        "colab": {}
      },
      "source": [
        "my_file.close()"
      ],
      "execution_count": 0,
      "outputs": []
    },
    {
      "cell_type": "markdown",
      "metadata": {
        "id": "P_teJeVwRr1_",
        "colab_type": "text"
      },
      "source": [
        "### Appending with `%%writefile`\n",
        "Jupyter notebook users can do the same thing using IPython cell magic:"
      ]
    },
    {
      "cell_type": "code",
      "metadata": {
        "id": "YmZJaIr3Rr2B",
        "colab_type": "code",
        "colab": {},
        "outputId": "9125560c-3e7d-4cfa-ef91-6f7ba712862f"
      },
      "source": [
        "%%writefile -a test.txt\n",
        "\n",
        "This is more text being appended to test.txt\n",
        "And another line here."
      ],
      "execution_count": 0,
      "outputs": [
        {
          "output_type": "stream",
          "text": [
            "Appending to test.txt\n"
          ],
          "name": "stdout"
        }
      ]
    },
    {
      "cell_type": "markdown",
      "metadata": {
        "id": "NKVb2bPWRr2H",
        "colab_type": "text"
      },
      "source": [
        "Add a blank space if you want the first line to begin on its own line, as Jupyter won't recognize escape sequences like `\\n`"
      ]
    },
    {
      "cell_type": "markdown",
      "metadata": {
        "id": "DXTwne4tRr2I",
        "colab_type": "text"
      },
      "source": [
        "## Aliases and Context Managers\n",
        "You can assign temporary variable names as aliases, and manage the opening and closing of files automatically using a context manager:"
      ]
    },
    {
      "cell_type": "code",
      "metadata": {
        "id": "khCUN830Rr2J",
        "colab_type": "code",
        "colab": {},
        "outputId": "d40a2b27-81e8-4aa9-acce-42d3e47b5697"
      },
      "source": [
        "with open('test.txt','r') as txt:\n",
        "    first_line = txt.readlines()[0]\n",
        "    \n",
        "print(first_line)"
      ],
      "execution_count": 0,
      "outputs": [
        {
          "output_type": "stream",
          "text": [
            "This is a new first line\n",
            "\n"
          ],
          "name": "stdout"
        }
      ]
    },
    {
      "cell_type": "markdown",
      "metadata": {
        "id": "8AkyMtA8Rr2O",
        "colab_type": "text"
      },
      "source": [
        "Note that the `with ... as ...:` context manager automatically closed `test.txt` after assigning the first line of text to first_line:"
      ]
    },
    {
      "cell_type": "code",
      "metadata": {
        "id": "fl1Vm74sRr2P",
        "colab_type": "code",
        "colab": {},
        "outputId": "6301555b-f45a-4021-8820-56db098430d6"
      },
      "source": [
        "txt.read()"
      ],
      "execution_count": 0,
      "outputs": [
        {
          "output_type": "error",
          "ename": "ValueError",
          "evalue": "I/O operation on closed file.",
          "traceback": [
            "\u001b[1;31m---------------------------------------------------------------------------\u001b[0m",
            "\u001b[1;31mValueError\u001b[0m                                Traceback (most recent call last)",
            "\u001b[1;32m<ipython-input-28-39ca4397fa0a>\u001b[0m in \u001b[0;36m<module>\u001b[1;34m()\u001b[0m\n\u001b[1;32m----> 1\u001b[1;33m \u001b[0mtxt\u001b[0m\u001b[1;33m.\u001b[0m\u001b[0mread\u001b[0m\u001b[1;33m(\u001b[0m\u001b[1;33m)\u001b[0m\u001b[1;33m\u001b[0m\u001b[0m\n\u001b[0m",
            "\u001b[1;31mValueError\u001b[0m: I/O operation on closed file."
          ]
        }
      ]
    },
    {
      "cell_type": "markdown",
      "metadata": {
        "id": "HOro0RAeRr2V",
        "colab_type": "text"
      },
      "source": [
        "## Iterating through a File"
      ]
    },
    {
      "cell_type": "code",
      "metadata": {
        "id": "0jfzEqFDRr2W",
        "colab_type": "code",
        "colab": {},
        "outputId": "1e2e673d-c0e1-4b23-dd57-93a480a3cb81"
      },
      "source": [
        "with open('test.txt','r') as txt:\n",
        "    for line in txt:\n",
        "        print(line, end='')  # the end='' argument removes extra linebreaks"
      ],
      "execution_count": 0,
      "outputs": [
        {
          "output_type": "stream",
          "text": [
            "This is a new first line\n",
            "This line is being appended to test.txt\n",
            "And another line here.\n",
            "This is more text being appended to test.txt\n",
            "And another line here."
          ],
          "name": "stdout"
        }
      ]
    },
    {
      "cell_type": "markdown",
      "metadata": {
        "id": "VWYBoOCjRr2c",
        "colab_type": "text"
      },
      "source": [
        "Great! Now you should be familiar with formatted string literals and working with text files.\n",
        "## Next up: Working with PDF Text"
      ]
    }
  ]
}