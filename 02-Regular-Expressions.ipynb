{
  "nbformat": 4,
  "nbformat_minor": 0,
  "metadata": {
    "kernelspec": {
      "display_name": "Python 3",
      "language": "python",
      "name": "python3"
    },
    "language_info": {
      "codemirror_mode": {
        "name": "ipython",
        "version": 3
      },
      "file_extension": ".py",
      "mimetype": "text/x-python",
      "name": "python",
      "nbconvert_exporter": "python",
      "pygments_lexer": "ipython3",
      "version": "3.6.2"
    },
    "colab": {
      "name": "02-Regular-Expressions.ipynb",
      "provenance": []
    }
  },
  "cells": [
    {
      "cell_type": "markdown",
      "metadata": {
        "id": "kusiEBrXTlA6",
        "colab_type": "text"
      },
      "source": [
        "# Regular Expressions\n",
        "\n",
        "Regular Expressions (sometimes called regex for short) allow a user to search for strings using almost any sort of rule they can come up with. For example, finding all capital letters in a string, or finding a phone number in a document. \n",
        "\n",
        "Regular expressions are notorious for their seemingly strange syntax. This strange syntax is a byproduct of their flexibility. Regular expressions have to be able to filter out any string pattern you can imagine, which is why they have a complex string pattern format.\n",
        "\n",
        "Regular expressions are handled using Python's built-in **re** library. See [the docs](https://docs.python.org/3/library/re.html) for more information."
      ]
    },
    {
      "cell_type": "markdown",
      "metadata": {
        "id": "28pDXBTsTlA9",
        "colab_type": "text"
      },
      "source": [
        "Let's begin by explaining how to search for basic patterns in a string!"
      ]
    },
    {
      "cell_type": "markdown",
      "metadata": {
        "id": "s3F8KysiTlA_",
        "colab_type": "text"
      },
      "source": [
        "## Searching for Basic Patterns\n",
        "\n",
        "Let's imagine that we have the following string:"
      ]
    },
    {
      "cell_type": "code",
      "metadata": {
        "id": "WzClTB_DTlBC",
        "colab_type": "code",
        "colab": {}
      },
      "source": [
        "text = \"The agent's phone number is 408-555-1234. Call soon!\""
      ],
      "execution_count": 0,
      "outputs": []
    },
    {
      "cell_type": "markdown",
      "metadata": {
        "id": "qXsp_0spTlBR",
        "colab_type": "text"
      },
      "source": [
        "We'll start off by trying to find out if the string \"phone\" is inside the text string. Now we could quickly do this with:"
      ]
    },
    {
      "cell_type": "code",
      "metadata": {
        "id": "ZSI1OoT3TlBU",
        "colab_type": "code",
        "colab": {},
        "outputId": "9b72ce59-8c12-4bec-a5be-96dc1c08a41d"
      },
      "source": [
        "'phone' in text"
      ],
      "execution_count": 0,
      "outputs": [
        {
          "output_type": "execute_result",
          "data": {
            "text/plain": [
              "True"
            ]
          },
          "metadata": {
            "tags": []
          },
          "execution_count": 2
        }
      ]
    },
    {
      "cell_type": "markdown",
      "metadata": {
        "id": "3BX2MR1CTlBk",
        "colab_type": "text"
      },
      "source": [
        "But let's show the format for regular expressions, because later on we will be searching for patterns that won't have such a simple solution."
      ]
    },
    {
      "cell_type": "code",
      "metadata": {
        "id": "O6Vp2fxRTlBl",
        "colab_type": "code",
        "colab": {}
      },
      "source": [
        "import re"
      ],
      "execution_count": 0,
      "outputs": []
    },
    {
      "cell_type": "code",
      "metadata": {
        "id": "_unz2IcETlBn",
        "colab_type": "code",
        "colab": {}
      },
      "source": [
        "pattern = 'phone'"
      ],
      "execution_count": 0,
      "outputs": []
    },
    {
      "cell_type": "code",
      "metadata": {
        "id": "QGRlg2bpTlBq",
        "colab_type": "code",
        "colab": {},
        "outputId": "5ba99a04-a8c1-41bb-bc38-e0ce29703c74"
      },
      "source": [
        "re.search(pattern,text)"
      ],
      "execution_count": 0,
      "outputs": [
        {
          "output_type": "execute_result",
          "data": {
            "text/plain": [
              "<_sre.SRE_Match object; span=(12, 17), match='phone'>"
            ]
          },
          "metadata": {
            "tags": []
          },
          "execution_count": 5
        }
      ]
    },
    {
      "cell_type": "code",
      "metadata": {
        "id": "yHbHsv38TlBt",
        "colab_type": "code",
        "colab": {}
      },
      "source": [
        "pattern = \"NOT IN TEXT\""
      ],
      "execution_count": 0,
      "outputs": []
    },
    {
      "cell_type": "code",
      "metadata": {
        "id": "Wx-XgY7tTlBw",
        "colab_type": "code",
        "colab": {}
      },
      "source": [
        "re.search(pattern,text)"
      ],
      "execution_count": 0,
      "outputs": []
    },
    {
      "cell_type": "markdown",
      "metadata": {
        "id": "JPCXUHYGTlBy",
        "colab_type": "text"
      },
      "source": [
        "Now we've seen that re.search() will take the pattern, scan the text, and then returns a Match object. If no pattern is found, a None is returned (in Jupyter Notebook this just means that nothing is output below the cell).\n",
        "\n",
        "Let's take a closer look at this Match object."
      ]
    },
    {
      "cell_type": "code",
      "metadata": {
        "id": "IOwYXixTTlBy",
        "colab_type": "code",
        "colab": {}
      },
      "source": [
        "pattern = 'phone'"
      ],
      "execution_count": 0,
      "outputs": []
    },
    {
      "cell_type": "code",
      "metadata": {
        "id": "FgfnK3EMTlB1",
        "colab_type": "code",
        "colab": {}
      },
      "source": [
        "match = re.search(pattern,text)"
      ],
      "execution_count": 0,
      "outputs": []
    },
    {
      "cell_type": "code",
      "metadata": {
        "id": "Hiai-IG9TlB4",
        "colab_type": "code",
        "colab": {},
        "outputId": "482aa356-9471-426a-f814-9a8d0e9a4c93"
      },
      "source": [
        "match"
      ],
      "execution_count": 0,
      "outputs": [
        {
          "output_type": "execute_result",
          "data": {
            "text/plain": [
              "<_sre.SRE_Match object; span=(12, 17), match='phone'>"
            ]
          },
          "metadata": {
            "tags": []
          },
          "execution_count": 10
        }
      ]
    },
    {
      "cell_type": "markdown",
      "metadata": {
        "id": "-1QOO_MhTlB6",
        "colab_type": "text"
      },
      "source": [
        "Notice the span, there is also a start and end index information."
      ]
    },
    {
      "cell_type": "code",
      "metadata": {
        "id": "0ZK1TcTOTlB7",
        "colab_type": "code",
        "colab": {},
        "outputId": "21043fba-2d1f-4b8b-eebb-24c7ab978fac"
      },
      "source": [
        "match.span()"
      ],
      "execution_count": 0,
      "outputs": [
        {
          "output_type": "execute_result",
          "data": {
            "text/plain": [
              "(12, 17)"
            ]
          },
          "metadata": {
            "tags": []
          },
          "execution_count": 11
        }
      ]
    },
    {
      "cell_type": "code",
      "metadata": {
        "id": "GlAf3udyTlB9",
        "colab_type": "code",
        "colab": {},
        "outputId": "8c4cebc1-4ba9-45d7-811b-71b8dbc53044"
      },
      "source": [
        "match.start()"
      ],
      "execution_count": 0,
      "outputs": [
        {
          "output_type": "execute_result",
          "data": {
            "text/plain": [
              "12"
            ]
          },
          "metadata": {
            "tags": []
          },
          "execution_count": 12
        }
      ]
    },
    {
      "cell_type": "code",
      "metadata": {
        "id": "mZzNJpXrTlB_",
        "colab_type": "code",
        "colab": {},
        "outputId": "51fc3025-ede9-490d-d180-b92780af95a0"
      },
      "source": [
        "match.end()"
      ],
      "execution_count": 0,
      "outputs": [
        {
          "output_type": "execute_result",
          "data": {
            "text/plain": [
              "17"
            ]
          },
          "metadata": {
            "tags": []
          },
          "execution_count": 13
        }
      ]
    },
    {
      "cell_type": "markdown",
      "metadata": {
        "id": "Z8R9HxvoTlCB",
        "colab_type": "text"
      },
      "source": [
        "But what if the pattern occurs more than once?"
      ]
    },
    {
      "cell_type": "code",
      "metadata": {
        "id": "khtocXShTlCC",
        "colab_type": "code",
        "colab": {}
      },
      "source": [
        "text = \"my phone is a new phone\""
      ],
      "execution_count": 0,
      "outputs": []
    },
    {
      "cell_type": "code",
      "metadata": {
        "id": "18EtugfBTlCF",
        "colab_type": "code",
        "colab": {}
      },
      "source": [
        "match = re.search(\"phone\",text)"
      ],
      "execution_count": 0,
      "outputs": []
    },
    {
      "cell_type": "code",
      "metadata": {
        "id": "NIvb0mh3TlCI",
        "colab_type": "code",
        "colab": {},
        "outputId": "8ef29fc8-35d8-47cf-ef90-3f9f197cf31f"
      },
      "source": [
        "match.span()"
      ],
      "execution_count": 0,
      "outputs": [
        {
          "output_type": "execute_result",
          "data": {
            "text/plain": [
              "(3, 8)"
            ]
          },
          "metadata": {
            "tags": []
          },
          "execution_count": 16
        }
      ]
    },
    {
      "cell_type": "markdown",
      "metadata": {
        "id": "yGg48onRTlCL",
        "colab_type": "text"
      },
      "source": [
        "Notice it only matches the first instance. If we wanted a list of all matches, we can use .findall() method:"
      ]
    },
    {
      "cell_type": "code",
      "metadata": {
        "id": "-crsRrhSTlCM",
        "colab_type": "code",
        "colab": {}
      },
      "source": [
        "matches = re.findall(\"phone\",text)"
      ],
      "execution_count": 0,
      "outputs": []
    },
    {
      "cell_type": "code",
      "metadata": {
        "id": "dzZDibilTlCO",
        "colab_type": "code",
        "colab": {},
        "outputId": "aea749d8-1ba8-441d-abb0-8d9e9b658145"
      },
      "source": [
        "matches"
      ],
      "execution_count": 0,
      "outputs": [
        {
          "output_type": "execute_result",
          "data": {
            "text/plain": [
              "['phone', 'phone']"
            ]
          },
          "metadata": {
            "tags": []
          },
          "execution_count": 18
        }
      ]
    },
    {
      "cell_type": "code",
      "metadata": {
        "id": "Wzt7p23nTlCS",
        "colab_type": "code",
        "colab": {},
        "outputId": "aa40d810-b4e8-422b-fc70-0c79f2ddda96"
      },
      "source": [
        "len(matches)"
      ],
      "execution_count": 0,
      "outputs": [
        {
          "output_type": "execute_result",
          "data": {
            "text/plain": [
              "2"
            ]
          },
          "metadata": {
            "tags": []
          },
          "execution_count": 19
        }
      ]
    },
    {
      "cell_type": "markdown",
      "metadata": {
        "id": "aoVH8WjtTlCV",
        "colab_type": "text"
      },
      "source": [
        "To get actual match objects, use the iterator:"
      ]
    },
    {
      "cell_type": "code",
      "metadata": {
        "id": "t7Y5TCESTlCV",
        "colab_type": "code",
        "colab": {},
        "outputId": "698a4364-cd92-4037-9967-9099410aee46"
      },
      "source": [
        "for match in re.finditer(\"phone\",text):\n",
        "    print(match.span())"
      ],
      "execution_count": 0,
      "outputs": [
        {
          "output_type": "stream",
          "text": [
            "(3, 8)\n",
            "(18, 23)\n"
          ],
          "name": "stdout"
        }
      ]
    },
    {
      "cell_type": "markdown",
      "metadata": {
        "id": "oVfy9c0BTlCY",
        "colab_type": "text"
      },
      "source": [
        "If you wanted the actual text that matched, you can use the .group() method."
      ]
    },
    {
      "cell_type": "code",
      "metadata": {
        "id": "Z1lnp8pSTlCZ",
        "colab_type": "code",
        "colab": {},
        "outputId": "067f2fb6-aa37-42b4-dad8-806fc94c5c4b"
      },
      "source": [
        "match.group()"
      ],
      "execution_count": 0,
      "outputs": [
        {
          "output_type": "execute_result",
          "data": {
            "text/plain": [
              "'phone'"
            ]
          },
          "metadata": {
            "tags": []
          },
          "execution_count": 21
        }
      ]
    },
    {
      "cell_type": "markdown",
      "metadata": {
        "id": "u_waZucNTlCd",
        "colab_type": "text"
      },
      "source": [
        "# Patterns\n",
        "\n",
        "So far we've learned how to search for a basic string. What about more complex examples? Such as trying to find a telephone number in a large string of text? Or an email address?\n",
        "\n",
        "We could just use search method if we know the exact phone or email, but what if we don't know it? We may know the general format, and we can use that along with regular expressions to search the document for strings that match a particular pattern.\n",
        "\n",
        "This is where the syntax may appear strange at first, but take your time with this; often it's just a matter of looking up the pattern code.\n",
        "\n",
        "Let's begin!"
      ]
    },
    {
      "cell_type": "markdown",
      "metadata": {
        "id": "j-Tz2iMcTlCd",
        "colab_type": "text"
      },
      "source": [
        "## Identifiers for Characters in Patterns\n",
        "\n",
        "Characters such as a digit or a single string have different codes that represent them. You can use these to build up a pattern string. Notice how these make heavy use of the backwards slash \\ . Because of this when defining a pattern string for regular expression we use the format:\n",
        "\n",
        "    r'mypattern'\n",
        "    \n",
        "placing the r in front of the string allows python to understand that the \\ in the pattern string are not meant to be escape slashes.\n",
        "\n",
        "Below you can find a table of all the possible identifiers:"
      ]
    },
    {
      "cell_type": "markdown",
      "metadata": {
        "id": "NY2i0lR9TlCe",
        "colab_type": "text"
      },
      "source": [
        "<table ><tr><th>Character</th><th>Description</th><th>Example Pattern Code</th><th >Exammple Match</th></tr>\n",
        "\n",
        "<tr ><td><span >\\d</span></td><td>A digit</td><td>file_\\d\\d</td><td>file_25</td></tr>\n",
        "\n",
        "<tr ><td><span >\\w</span></td><td>Alphanumeric</td><td>\\w-\\w\\w\\w</td><td>A-b_1</td></tr>\n",
        "\n",
        "\n",
        "\n",
        "<tr ><td><span >\\s</span></td><td>White space</td><td>a\\sb\\sc</td><td>a b c</td></tr>\n",
        "\n",
        "\n",
        "\n",
        "<tr ><td><span >\\D</span></td><td>A non digit</td><td>\\D\\D\\D</td><td>ABC</td></tr>\n",
        "\n",
        "<tr ><td><span >\\W</span></td><td>Non-alphanumeric</td><td>\\W\\W\\W\\W\\W</td><td>*-+=)</td></tr>\n",
        "\n",
        "<tr ><td><span >\\S</span></td><td>Non-whitespace</td><td>\\S\\S\\S\\S</td><td>Yoyo</td></tr></table>"
      ]
    },
    {
      "cell_type": "markdown",
      "metadata": {
        "id": "kXIiRCOoTlCf",
        "colab_type": "text"
      },
      "source": [
        "For example:"
      ]
    },
    {
      "cell_type": "code",
      "metadata": {
        "id": "Yy-L3aMhTlCf",
        "colab_type": "code",
        "colab": {}
      },
      "source": [
        "text = \"My telephone number is 408-555-1234\""
      ],
      "execution_count": 0,
      "outputs": []
    },
    {
      "cell_type": "code",
      "metadata": {
        "id": "RADTzQ3iTlCj",
        "colab_type": "code",
        "colab": {}
      },
      "source": [
        "phone = re.search(r'\\d\\d\\d-\\d\\d\\d-\\d\\d\\d\\d',text)"
      ],
      "execution_count": 0,
      "outputs": []
    },
    {
      "cell_type": "code",
      "metadata": {
        "id": "oeB0K3xFTlCl",
        "colab_type": "code",
        "colab": {},
        "outputId": "cb74d0f1-4068-4501-bfd9-e745fc8de0c8"
      },
      "source": [
        "phone.group()"
      ],
      "execution_count": 0,
      "outputs": [
        {
          "output_type": "execute_result",
          "data": {
            "text/plain": [
              "'408-555-1234'"
            ]
          },
          "metadata": {
            "tags": []
          },
          "execution_count": 24
        }
      ]
    },
    {
      "cell_type": "markdown",
      "metadata": {
        "id": "qHNniyaiTlCo",
        "colab_type": "text"
      },
      "source": [
        "Notice the repetition of \\d. That is a bit of an annoyance, especially if we are looking for very long strings of numbers. Let's explore the possible quantifiers.\n",
        "\n",
        "## Quantifiers\n",
        "\n",
        "Now that we know the special character designations, we can use them along with quantifiers to define how many we expect."
      ]
    },
    {
      "cell_type": "markdown",
      "metadata": {
        "id": "BZitt9IgTlCo",
        "colab_type": "text"
      },
      "source": [
        "<table ><tr><th>Character</th><th>Description</th><th>Example Pattern Code</th><th >Exammple Match</th></tr>\n",
        "\n",
        "<tr ><td><span >+</span></td><td>Occurs one or more times</td><td>\tVersion \\w-\\w+</td><td>Version A-b1_1</td></tr>\n",
        "\n",
        "<tr ><td><span >{3}</span></td><td>Occurs exactly 3 times</td><td>\\D{3}</td><td>abc</td></tr>\n",
        "\n",
        "\n",
        "\n",
        "<tr ><td><span >{2,4}</span></td><td>Occurs 2 to 4 times</td><td>\\d{2,4}</td><td>123</td></tr>\n",
        "\n",
        "\n",
        "\n",
        "<tr ><td><span >{3,}</span></td><td>Occurs 3 or more</td><td>\\w{3,}</td><td>anycharacters</td></tr>\n",
        "\n",
        "<tr ><td><span >\\*</span></td><td>Occurs zero or more times</td><td>A\\*B\\*C*</td><td>AAACC</td></tr>\n",
        "\n",
        "<tr ><td><span >?</span></td><td>Once or none</td><td>plurals?</td><td>plural</td></tr></table>"
      ]
    },
    {
      "cell_type": "markdown",
      "metadata": {
        "id": "9FbtM7TrTlCp",
        "colab_type": "text"
      },
      "source": [
        "Let's rewrite our pattern using these quantifiers:"
      ]
    },
    {
      "cell_type": "code",
      "metadata": {
        "id": "MTnjj-aQTlCp",
        "colab_type": "code",
        "colab": {},
        "outputId": "863ea80b-d0ac-46ad-ff44-41dc1cf0f954"
      },
      "source": [
        "re.search(r'\\d{3}-\\d{3}-\\d{4}',text)"
      ],
      "execution_count": 0,
      "outputs": [
        {
          "output_type": "execute_result",
          "data": {
            "text/plain": [
              "<_sre.SRE_Match object; span=(23, 35), match='408-555-1234'>"
            ]
          },
          "metadata": {
            "tags": []
          },
          "execution_count": 25
        }
      ]
    },
    {
      "cell_type": "markdown",
      "metadata": {
        "id": "cJgsM9xPTlCr",
        "colab_type": "text"
      },
      "source": [
        "## Groups\n",
        "\n",
        "What if we wanted to do two tasks, find phone numbers, but also be able to quickly extract their area code (the first three digits). We can use groups for any general task that involves grouping together regular expressions (so that we can later break them down). \n",
        "\n",
        "Using the phone number example, we can separate groups of regular expressions using parentheses:"
      ]
    },
    {
      "cell_type": "code",
      "metadata": {
        "id": "E-9hosZRTlCr",
        "colab_type": "code",
        "colab": {}
      },
      "source": [
        "phone_pattern = re.compile(r'(\\d{3})-(\\d{3})-(\\d{4})')"
      ],
      "execution_count": 0,
      "outputs": []
    },
    {
      "cell_type": "code",
      "metadata": {
        "id": "bQUughWyTlCu",
        "colab_type": "code",
        "colab": {}
      },
      "source": [
        "results = re.search(phone_pattern,text)"
      ],
      "execution_count": 0,
      "outputs": []
    },
    {
      "cell_type": "code",
      "metadata": {
        "id": "OTs_3VYqTlCw",
        "colab_type": "code",
        "colab": {},
        "outputId": "39b60ad9-c7a9-4f20-8ad7-6d7b524d41bd"
      },
      "source": [
        "# The entire result\n",
        "results.group()"
      ],
      "execution_count": 0,
      "outputs": [
        {
          "output_type": "execute_result",
          "data": {
            "text/plain": [
              "'408-555-1234'"
            ]
          },
          "metadata": {
            "tags": []
          },
          "execution_count": 28
        }
      ]
    },
    {
      "cell_type": "code",
      "metadata": {
        "id": "bo-M8v61TlCy",
        "colab_type": "code",
        "colab": {},
        "outputId": "fd1ed8fd-5eab-4655-b0f0-bd85e75be97d"
      },
      "source": [
        "# Can then also call by group position.\n",
        "# remember groups were separated by parentheses ()\n",
        "# Something to note is that group ordering starts at 1. Passing in 0 returns everything\n",
        "results.group(1)"
      ],
      "execution_count": 0,
      "outputs": [
        {
          "output_type": "execute_result",
          "data": {
            "text/plain": [
              "'408'"
            ]
          },
          "metadata": {
            "tags": []
          },
          "execution_count": 29
        }
      ]
    },
    {
      "cell_type": "code",
      "metadata": {
        "id": "3r-9_q2MTlC0",
        "colab_type": "code",
        "colab": {},
        "outputId": "e1e4db81-9b25-4894-e03c-e5d87998c397"
      },
      "source": [
        "results.group(2)"
      ],
      "execution_count": 0,
      "outputs": [
        {
          "output_type": "execute_result",
          "data": {
            "text/plain": [
              "'555'"
            ]
          },
          "metadata": {
            "tags": []
          },
          "execution_count": 30
        }
      ]
    },
    {
      "cell_type": "code",
      "metadata": {
        "id": "L0KT9jbdTlC3",
        "colab_type": "code",
        "colab": {},
        "outputId": "58082b50-1dab-4aba-e34e-a0ebeb8bace3"
      },
      "source": [
        "results.group(3)"
      ],
      "execution_count": 0,
      "outputs": [
        {
          "output_type": "execute_result",
          "data": {
            "text/plain": [
              "'1234'"
            ]
          },
          "metadata": {
            "tags": []
          },
          "execution_count": 31
        }
      ]
    },
    {
      "cell_type": "code",
      "metadata": {
        "id": "_ud4D8MaTlC7",
        "colab_type": "code",
        "colab": {},
        "outputId": "6e417631-8745-48ca-f67c-ee0dbc5d6b05"
      },
      "source": [
        "# We only had three groups of parentheses\n",
        "results.group(4)"
      ],
      "execution_count": 0,
      "outputs": [
        {
          "output_type": "error",
          "ename": "IndexError",
          "evalue": "no such group",
          "traceback": [
            "\u001b[1;31m---------------------------------------------------------------------------\u001b[0m",
            "\u001b[1;31mIndexError\u001b[0m                                Traceback (most recent call last)",
            "\u001b[1;32m<ipython-input-32-79a918a9b5dc>\u001b[0m in \u001b[0;36m<module>\u001b[1;34m()\u001b[0m\n\u001b[0;32m      1\u001b[0m \u001b[1;31m# We only had three groups of parentheses\u001b[0m\u001b[1;33m\u001b[0m\u001b[1;33m\u001b[0m\u001b[0m\n\u001b[1;32m----> 2\u001b[1;33m \u001b[0mresults\u001b[0m\u001b[1;33m.\u001b[0m\u001b[0mgroup\u001b[0m\u001b[1;33m(\u001b[0m\u001b[1;36m4\u001b[0m\u001b[1;33m)\u001b[0m\u001b[1;33m\u001b[0m\u001b[0m\n\u001b[0m",
            "\u001b[1;31mIndexError\u001b[0m: no such group"
          ]
        }
      ]
    },
    {
      "cell_type": "markdown",
      "metadata": {
        "id": "M0lsRPJtTlC-",
        "colab_type": "text"
      },
      "source": [
        "## Additional Regex Syntax\n",
        "\n",
        "### Or operator |\n",
        "\n",
        "Use the pipe operator to have an **or** statment. For example"
      ]
    },
    {
      "cell_type": "code",
      "metadata": {
        "id": "sf4YOA-7TlC_",
        "colab_type": "code",
        "colab": {},
        "outputId": "d6037e37-d155-4f35-c3b3-0e88b2057f87"
      },
      "source": [
        "re.search(r\"man|woman\",\"This man was here.\")"
      ],
      "execution_count": 0,
      "outputs": [
        {
          "output_type": "execute_result",
          "data": {
            "text/plain": [
              "<_sre.SRE_Match object; span=(5, 8), match='man'>"
            ]
          },
          "metadata": {
            "tags": []
          },
          "execution_count": 33
        }
      ]
    },
    {
      "cell_type": "code",
      "metadata": {
        "id": "Pc8S-7xWTlDB",
        "colab_type": "code",
        "colab": {},
        "outputId": "96475cff-dc51-4778-98da-d7270ac1eec0"
      },
      "source": [
        "re.search(r\"man|woman\",\"This woman was here.\")"
      ],
      "execution_count": 0,
      "outputs": [
        {
          "output_type": "execute_result",
          "data": {
            "text/plain": [
              "<_sre.SRE_Match object; span=(5, 10), match='woman'>"
            ]
          },
          "metadata": {
            "tags": []
          },
          "execution_count": 34
        }
      ]
    },
    {
      "cell_type": "markdown",
      "metadata": {
        "id": "jHurRQF9TlDD",
        "colab_type": "text"
      },
      "source": [
        "### The Wildcard Character\n",
        "\n",
        "Use a \"wildcard\" as a placement that will match any character placed there. You can use a simple period **.** for this. For example:"
      ]
    },
    {
      "cell_type": "code",
      "metadata": {
        "id": "-OrKYIt8TlDD",
        "colab_type": "code",
        "colab": {},
        "outputId": "e7b83a25-9018-4515-9459-846ecfe1096f"
      },
      "source": [
        "re.findall(r\".at\",\"The cat in the hat sat here.\")"
      ],
      "execution_count": 0,
      "outputs": [
        {
          "output_type": "execute_result",
          "data": {
            "text/plain": [
              "['cat', 'hat', 'sat']"
            ]
          },
          "metadata": {
            "tags": []
          },
          "execution_count": 35
        }
      ]
    },
    {
      "cell_type": "code",
      "metadata": {
        "id": "y1s8MT6iTlDF",
        "colab_type": "code",
        "colab": {},
        "outputId": "9c87edda-a606-4b81-fee6-48ef8f984c3d"
      },
      "source": [
        "re.findall(r\".at\",\"The bat went splat\")"
      ],
      "execution_count": 0,
      "outputs": [
        {
          "output_type": "execute_result",
          "data": {
            "text/plain": [
              "['bat', 'lat']"
            ]
          },
          "metadata": {
            "tags": []
          },
          "execution_count": 36
        }
      ]
    },
    {
      "cell_type": "markdown",
      "metadata": {
        "id": "C3HGBRK1TlDH",
        "colab_type": "text"
      },
      "source": [
        "Notice how we only matched the first 3 letters, that is because we need a **.** for each wildcard letter. Or use the quantifiers described above to set its own rules."
      ]
    },
    {
      "cell_type": "code",
      "metadata": {
        "id": "JQyi75T0TlDH",
        "colab_type": "code",
        "colab": {},
        "outputId": "daef0825-96eb-4f6c-94ce-4c1d235f31f6"
      },
      "source": [
        "re.findall(r\"...at\",\"The bat went splat\")"
      ],
      "execution_count": 0,
      "outputs": [
        {
          "output_type": "execute_result",
          "data": {
            "text/plain": [
              "['e bat', 'splat']"
            ]
          },
          "metadata": {
            "tags": []
          },
          "execution_count": 37
        }
      ]
    },
    {
      "cell_type": "markdown",
      "metadata": {
        "id": "7R7q1jF_TlDJ",
        "colab_type": "text"
      },
      "source": [
        "However this still leads the problem to grabbing more beforehand. Really we only want words that end with \"at\"."
      ]
    },
    {
      "cell_type": "code",
      "metadata": {
        "id": "OO2RqeWsTlDK",
        "colab_type": "code",
        "colab": {},
        "outputId": "fca5ab4e-f67b-4961-d6b6-c297a2ebbf4e"
      },
      "source": [
        "# One or more non-whitespace that ends with 'at'\n",
        "re.findall(r'\\S+at',\"The bat went splat\")"
      ],
      "execution_count": 0,
      "outputs": [
        {
          "output_type": "execute_result",
          "data": {
            "text/plain": [
              "['bat', 'splat']"
            ]
          },
          "metadata": {
            "tags": []
          },
          "execution_count": 38
        }
      ]
    },
    {
      "cell_type": "markdown",
      "metadata": {
        "id": "eysdNOHiTlDO",
        "colab_type": "text"
      },
      "source": [
        "### Starts With and Ends With\n",
        "\n",
        "We can use the **^** to signal starts with, and the **$** to signal ends with:"
      ]
    },
    {
      "cell_type": "code",
      "metadata": {
        "id": "o7k0XehvTlDO",
        "colab_type": "code",
        "colab": {},
        "outputId": "8168a056-e655-46ac-8e9a-c8448724a840"
      },
      "source": [
        "# Ends with a number\n",
        "re.findall(r'\\d$','This ends with a number 2')"
      ],
      "execution_count": 0,
      "outputs": [
        {
          "output_type": "execute_result",
          "data": {
            "text/plain": [
              "['2']"
            ]
          },
          "metadata": {
            "tags": []
          },
          "execution_count": 39
        }
      ]
    },
    {
      "cell_type": "code",
      "metadata": {
        "id": "rAnUyeSYTlDV",
        "colab_type": "code",
        "colab": {},
        "outputId": "15677624-988d-4ad1-a3b0-aafd16405120"
      },
      "source": [
        "# Starts with a number\n",
        "re.findall(r'^\\d','1 is the loneliest number.')"
      ],
      "execution_count": 0,
      "outputs": [
        {
          "output_type": "execute_result",
          "data": {
            "text/plain": [
              "['1']"
            ]
          },
          "metadata": {
            "tags": []
          },
          "execution_count": 40
        }
      ]
    },
    {
      "cell_type": "markdown",
      "metadata": {
        "id": "iATIq0FQTlDZ",
        "colab_type": "text"
      },
      "source": [
        "Note that this is for the entire string, not individual words!"
      ]
    },
    {
      "cell_type": "markdown",
      "metadata": {
        "id": "vJbeEn7uTlDZ",
        "colab_type": "text"
      },
      "source": [
        "### Exclusion\n",
        "\n",
        "To exclude characters, we can use the **^** symbol in conjunction with a set of brackets **[]**. Anything inside the brackets is excluded. For example:"
      ]
    },
    {
      "cell_type": "code",
      "metadata": {
        "id": "nCBKcruUTlDa",
        "colab_type": "code",
        "colab": {}
      },
      "source": [
        "phrase = \"there are 3 numbers 34 inside 5 this sentence.\""
      ],
      "execution_count": 0,
      "outputs": []
    },
    {
      "cell_type": "code",
      "metadata": {
        "id": "vjly0yNkTlDd",
        "colab_type": "code",
        "colab": {},
        "outputId": "9ec0cb3b-0d33-4e55-8d1e-813f85d7a89e"
      },
      "source": [
        "re.findall(r'[^\\d]',phrase)"
      ],
      "execution_count": 0,
      "outputs": [
        {
          "output_type": "execute_result",
          "data": {
            "text/plain": [
              "['t',\n",
              " 'h',\n",
              " 'e',\n",
              " 'r',\n",
              " 'e',\n",
              " ' ',\n",
              " 'a',\n",
              " 'r',\n",
              " 'e',\n",
              " ' ',\n",
              " ' ',\n",
              " 'n',\n",
              " 'u',\n",
              " 'm',\n",
              " 'b',\n",
              " 'e',\n",
              " 'r',\n",
              " 's',\n",
              " ' ',\n",
              " ' ',\n",
              " 'i',\n",
              " 'n',\n",
              " 's',\n",
              " 'i',\n",
              " 'd',\n",
              " 'e',\n",
              " ' ',\n",
              " ' ',\n",
              " 't',\n",
              " 'h',\n",
              " 'i',\n",
              " 's',\n",
              " ' ',\n",
              " 's',\n",
              " 'e',\n",
              " 'n',\n",
              " 't',\n",
              " 'e',\n",
              " 'n',\n",
              " 'c',\n",
              " 'e',\n",
              " '.']"
            ]
          },
          "metadata": {
            "tags": []
          },
          "execution_count": 42
        }
      ]
    },
    {
      "cell_type": "markdown",
      "metadata": {
        "id": "po01BFRrTlDf",
        "colab_type": "text"
      },
      "source": [
        "To get the words back together, use a + sign "
      ]
    },
    {
      "cell_type": "code",
      "metadata": {
        "id": "CmwiTQxWTlDg",
        "colab_type": "code",
        "colab": {},
        "outputId": "d8f16d22-0e96-4e40-fc99-9f9327feb570"
      },
      "source": [
        "re.findall(r'[^\\d]+',phrase)"
      ],
      "execution_count": 0,
      "outputs": [
        {
          "output_type": "execute_result",
          "data": {
            "text/plain": [
              "['there are ', ' numbers ', ' inside ', ' this sentence.']"
            ]
          },
          "metadata": {
            "tags": []
          },
          "execution_count": 43
        }
      ]
    },
    {
      "cell_type": "markdown",
      "metadata": {
        "id": "Xpe0z28MTlDi",
        "colab_type": "text"
      },
      "source": [
        "We can use this to remove punctuation from a sentence."
      ]
    },
    {
      "cell_type": "code",
      "metadata": {
        "id": "4VhlLS3oTlDj",
        "colab_type": "code",
        "colab": {}
      },
      "source": [
        "test_phrase = 'This is a string! But it has punctuation. How can we remove it?'"
      ],
      "execution_count": 0,
      "outputs": []
    },
    {
      "cell_type": "code",
      "metadata": {
        "id": "a5chCbvKTlDl",
        "colab_type": "code",
        "colab": {},
        "outputId": "b672f44a-b035-4e07-ab04-1cef68c075ea"
      },
      "source": [
        "re.findall('[^!.? ]+',test_phrase)"
      ],
      "execution_count": 0,
      "outputs": [
        {
          "output_type": "execute_result",
          "data": {
            "text/plain": [
              "['This',\n",
              " 'is',\n",
              " 'a',\n",
              " 'string',\n",
              " 'But',\n",
              " 'it',\n",
              " 'has',\n",
              " 'punctuation',\n",
              " 'How',\n",
              " 'can',\n",
              " 'we',\n",
              " 'remove',\n",
              " 'it']"
            ]
          },
          "metadata": {
            "tags": []
          },
          "execution_count": 45
        }
      ]
    },
    {
      "cell_type": "code",
      "metadata": {
        "id": "Wd1ZvIX4TlDn",
        "colab_type": "code",
        "colab": {}
      },
      "source": [
        "clean = ' '.join(re.findall('[^!.? ]+',test_phrase))"
      ],
      "execution_count": 0,
      "outputs": []
    },
    {
      "cell_type": "code",
      "metadata": {
        "id": "-EwyLKJdTlDq",
        "colab_type": "code",
        "colab": {},
        "outputId": "ce04b459-ce8d-4826-e591-a0ebb5c3f0fb"
      },
      "source": [
        "clean"
      ],
      "execution_count": 0,
      "outputs": [
        {
          "output_type": "execute_result",
          "data": {
            "text/plain": [
              "'This is a string But it has punctuation How can we remove it'"
            ]
          },
          "metadata": {
            "tags": []
          },
          "execution_count": 47
        }
      ]
    },
    {
      "cell_type": "markdown",
      "metadata": {
        "id": "Ca5wB6e8TlDs",
        "colab_type": "text"
      },
      "source": [
        "## Brackets for Grouping\n",
        "\n",
        "As we showed above we can use brackets to group together options, for example if we wanted to find hyphenated words:"
      ]
    },
    {
      "cell_type": "code",
      "metadata": {
        "id": "jGvr4hohTlDt",
        "colab_type": "code",
        "colab": {}
      },
      "source": [
        "text = 'Only find the hypen-words in this sentence. But you do not know how long-ish they are'"
      ],
      "execution_count": 0,
      "outputs": []
    },
    {
      "cell_type": "code",
      "metadata": {
        "id": "hnVGoI4zTlDw",
        "colab_type": "code",
        "colab": {},
        "outputId": "ebd98ede-47af-4f95-8fce-3eb2ab80a575"
      },
      "source": [
        "re.findall(r'[\\w]+-[\\w]+',text)"
      ],
      "execution_count": 0,
      "outputs": [
        {
          "output_type": "execute_result",
          "data": {
            "text/plain": [
              "['hypen-words', 'long-ish']"
            ]
          },
          "metadata": {
            "tags": []
          },
          "execution_count": 49
        }
      ]
    },
    {
      "cell_type": "markdown",
      "metadata": {
        "id": "4iobLmm9TlD0",
        "colab_type": "text"
      },
      "source": [
        "## Parentheses for Multiple Options\n",
        "\n",
        "If we have multiple options for matching, we can use parentheses to list out these options. For Example:"
      ]
    },
    {
      "cell_type": "code",
      "metadata": {
        "id": "-jKhlca4TlD0",
        "colab_type": "code",
        "colab": {}
      },
      "source": [
        "# Find words that start with cat and end with one of these options: 'fish','nap', or 'claw'\n",
        "text = 'Hello, would you like some catfish?'\n",
        "texttwo = \"Hello, would you like to take a catnap?\"\n",
        "textthree = \"Hello, have you seen this caterpillar?\""
      ],
      "execution_count": 0,
      "outputs": []
    },
    {
      "cell_type": "code",
      "metadata": {
        "id": "T4COAVQjTlD2",
        "colab_type": "code",
        "colab": {},
        "outputId": "d70cb2ec-36ec-49e1-ac8d-d1dbb65b90ff"
      },
      "source": [
        "re.search(r'cat(fish|nap|claw)',text)"
      ],
      "execution_count": 0,
      "outputs": [
        {
          "output_type": "execute_result",
          "data": {
            "text/plain": [
              "<_sre.SRE_Match object; span=(27, 34), match='catfish'>"
            ]
          },
          "metadata": {
            "tags": []
          },
          "execution_count": 51
        }
      ]
    },
    {
      "cell_type": "code",
      "metadata": {
        "id": "wwKJb0U9TlD3",
        "colab_type": "code",
        "colab": {},
        "outputId": "00074e35-24f4-4549-e3a6-155de1776fbb"
      },
      "source": [
        "re.search(r'cat(fish|nap|claw)',texttwo)"
      ],
      "execution_count": 0,
      "outputs": [
        {
          "output_type": "execute_result",
          "data": {
            "text/plain": [
              "<_sre.SRE_Match object; span=(32, 38), match='catnap'>"
            ]
          },
          "metadata": {
            "tags": []
          },
          "execution_count": 52
        }
      ]
    },
    {
      "cell_type": "code",
      "metadata": {
        "id": "Z0VMs8gwTlD5",
        "colab_type": "code",
        "colab": {}
      },
      "source": [
        "# None returned\n",
        "re.search(r'cat(fish|nap|claw)',textthree)"
      ],
      "execution_count": 0,
      "outputs": []
    },
    {
      "cell_type": "markdown",
      "metadata": {
        "id": "C9jnTuI9TlD8",
        "colab_type": "text"
      },
      "source": [
        "### Conclusion\n",
        "\n",
        "Excellent work! For full information on all possible patterns, check out: https://docs.python.org/3/howto/regex.html"
      ]
    },
    {
      "cell_type": "markdown",
      "metadata": {
        "id": "-_CJLf1BTlD8",
        "colab_type": "text"
      },
      "source": [
        "## Next up: Python Text Basics Assessment"
      ]
    }
  ]
}